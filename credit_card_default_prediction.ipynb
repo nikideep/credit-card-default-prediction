{
  "nbformat": 4,
  "nbformat_minor": 0,
  "metadata": {
    "kernelspec": {
      "display_name": "Python 3",
      "language": "python",
      "name": "python3"
    },
    "language_info": {
      "codemirror_mode": {
        "name": "ipython",
        "version": 3
      },
      "file_extension": ".py",
      "mimetype": "text/x-python",
      "name": "python",
      "nbconvert_exporter": "python",
      "pygments_lexer": "ipython3",
      "version": "3.7.3"
    },
    "colab": {
      "name": "DeepikaandSwathi_CreditCard_PythonCode (1).ipynb",
      "provenance": [],
      "collapsed_sections": []
    }
  },
  "cells": [
    {
      "cell_type": "code",
      "metadata": {
        "id": "XyFxoIxLVwVW",
        "colab_type": "code",
        "colab": {
          "base_uri": "https://localhost:8080/",
          "height": 34
        },
        "outputId": "9682f0a6-e071-47d8-b328-8c7b0c9ca9be"
      },
      "source": [
        "from google.colab import drive\n",
        "drive.mount('/content/drive')"
      ],
      "execution_count": null,
      "outputs": [
        {
          "output_type": "stream",
          "text": [
            "Drive already mounted at /content/drive; to attempt to forcibly remount, call drive.mount(\"/content/drive\", force_remount=True).\n"
          ],
          "name": "stdout"
        }
      ]
    },
    {
      "cell_type": "code",
      "metadata": {
        "id": "6Gm7KBGLVt-F",
        "colab_type": "code",
        "colab": {}
      },
      "source": [
        "import pandas as pd\n",
        "import numpy as np\n",
        "import glob\n",
        "import os\n",
        "import scipy.stats as ss\n",
        "import seaborn as sns\n",
        "import matplotlib.pyplot as plt\n",
        "from sklearn.metrics import confusion_matrix\n",
        "from __future__ import print_function\n",
        "from scipy.cluster.hierarchy import dendrogram, linkage\n",
        "from sklearn.metrics.cluster import homogeneity_score\n",
        "from sklearn.cluster import KMeans\n",
        "from sklearn.metrics import silhouette_samples, silhouette_score\n",
        "from scipy.cluster.hierarchy import dendrogram, linkage\n",
        "from sklearn.preprocessing import StandardScaler\n",
        "from sklearn.preprocessing import OrdinalEncoder\n",
        "from sklearn.decomposition import PCA\n",
        "from sklearn.model_selection import train_test_split\n",
        "import matplotlib.cm as cm\n",
        "%matplotlib inline"
      ],
      "execution_count": null,
      "outputs": []
    },
    {
      "cell_type": "code",
      "metadata": {
        "id": "uOu4uzkZVt-L",
        "colab_type": "code",
        "colab": {
          "base_uri": "https://localhost:8080/",
          "height": 119
        },
        "outputId": "7d46a620-54a2-4c71-d720-22e3c23dd1f9"
      },
      "source": [
        "# Read data \n",
        "os.chdir('/content/drive/My Drive/Colab Notebooks/Deepika')\n",
        "datapath = os.getcwd()+'/Data/'\n",
        "file = datapath + 'UCI_Credit_Card.csv'\n",
        "df = pd.read_csv(file, sep = ',', index_col = 0)\n",
        "\n",
        "# Rename column 'PAY_0' as 'PAY_1'\n",
        "df.rename(columns = {'PAY_0' : 'PAY_1'}, inplace = True)\n",
        "\n",
        "# Print dataframe and column datatypes\n",
        "pd.options.display.max_columns = None\n",
        "#print(df.head(5))\n",
        "#print(df.dtypes)\n",
        "df.columns"
      ],
      "execution_count": null,
      "outputs": [
        {
          "output_type": "execute_result",
          "data": {
            "text/plain": [
              "Index(['LIMIT_BAL', 'SEX', 'EDUCATION', 'MARRIAGE', 'AGE', 'PAY_1', 'PAY_2',\n",
              "       'PAY_3', 'PAY_4', 'PAY_5', 'PAY_6', 'BILL_AMT1', 'BILL_AMT2',\n",
              "       'BILL_AMT3', 'BILL_AMT4', 'BILL_AMT5', 'BILL_AMT6', 'PAY_AMT1',\n",
              "       'PAY_AMT2', 'PAY_AMT3', 'PAY_AMT4', 'PAY_AMT5', 'PAY_AMT6',\n",
              "       'default.payment.next.month'],\n",
              "      dtype='object')"
            ]
          },
          "metadata": {
            "tags": []
          },
          "execution_count": 62
        }
      ]
    },
    {
      "cell_type": "code",
      "metadata": {
        "id": "Y_6tudUB651l",
        "colab_type": "code",
        "colab": {
          "base_uri": "https://localhost:8080/",
          "height": 187
        },
        "outputId": "fe3f3779-a0d0-450f-e8e6-c58961bc4b6b"
      },
      "source": [
        "# Create lists of continuous and categorical column names\n",
        "continuous_cols = ['LIMIT_BAL', 'AGE', 'BILL_AMT1', 'BILL_AMT2', 'BILL_AMT3',\n",
        "                   'BILL_AMT4', 'BILL_AMT5', 'BILL_AMT6', 'PAY_AMT1',\n",
        "                   'PAY_AMT2', 'PAY_AMT3', 'PAY_AMT4', 'PAY_AMT5', 'PAY_AMT6']\n",
        "categorical_cols = ['SEX', 'EDUCATION', 'MARRIAGE', 'PAY_1', 'PAY_2', 'PAY_3',\n",
        "                    'PAY_4', 'PAY_5', 'PAY_6', 'default.payment.next.month']\n",
        "\n",
        "# Assign 'object' datatype to categorical columns                    \n",
        "df[categorical_cols] = df[categorical_cols].astype('category')\n",
        "\n",
        "# Print unique values for categorical columns\n",
        "unique_values = {col:list(df[col].unique()) for col in categorical_cols}\n",
        "for key, value in unique_values.items():\n",
        "  print(key,value)"
      ],
      "execution_count": null,
      "outputs": [
        {
          "output_type": "stream",
          "text": [
            "SEX [2, 1]\n",
            "EDUCATION [2, 1, 3, 5, 4, 6, 0]\n",
            "MARRIAGE [1, 2, 3, 0]\n",
            "PAY_1 [2, -1, 0, -2, 1, 3, 4, 8, 7, 5, 6]\n",
            "PAY_2 [2, 0, -1, -2, 3, 5, 7, 4, 1, 6, 8]\n",
            "PAY_3 [-1, 0, 2, -2, 3, 4, 6, 7, 1, 5, 8]\n",
            "PAY_4 [-1, 0, -2, 2, 3, 4, 5, 7, 6, 1, 8]\n",
            "PAY_5 [-2, 0, -1, 2, 3, 5, 4, 7, 8, 6]\n",
            "PAY_6 [-2, 2, 0, -1, 3, 6, 4, 7, 8, 5]\n",
            "default.payment.next.month [1, 0]\n"
          ],
          "name": "stdout"
        }
      ]
    },
    {
      "cell_type": "code",
      "metadata": {
        "id": "0YzD0BFlVerx",
        "colab_type": "code",
        "colab": {}
      },
      "source": [
        "# Adjust categorical column values for misrepresented entries\n",
        "df.loc[~df['EDUCATION'].isin([1, 2, 3, 4]), 'EDUCATION'] = 5\n",
        "df.loc[~df['MARRIAGE'].isin([1, 2]), 'MARRIAGE'] = 3\n",
        "df.loc[~df['PAY_1'].isin([-1, 1, 2, 3, 4, 5, 6, 7, 8, 9]), 'PAY_1'] = 0\n",
        "df.loc[~df['PAY_2'].isin([-1, 1, 2, 3, 4, 5, 6, 7, 8, 9]), 'PAY_2'] = 0\n",
        "df.loc[~df['PAY_3'].isin([-1, 1, 2, 3, 4, 5, 6, 7, 8, 9]), 'PAY_3'] = 0\n",
        "df.loc[~df['PAY_4'].isin([-1, 1, 2, 3, 4, 5, 6, 7, 8, 9]), 'PAY_4'] = 0\n",
        "df.loc[~df['PAY_5'].isin([-1, 1, 2, 3, 4, 5, 6, 7, 8, 9]), 'PAY_5'] = 0\n",
        "df.loc[~df['PAY_6'].isin([-1, 1, 2, 3, 4, 5, 6, 7, 8, 9]), 'PAY_6'] = 0\n",
        "categorical_cols = categorical_cols[:-1]"
      ],
      "execution_count": null,
      "outputs": []
    },
    {
      "cell_type": "code",
      "metadata": {
        "id": "KGrc73Ryq6n3",
        "colab_type": "code",
        "colab": {}
      },
      "source": [
        ""
      ],
      "execution_count": null,
      "outputs": []
    },
    {
      "cell_type": "code",
      "metadata": {
        "id": "aXTRkfnX-TYw",
        "colab_type": "code",
        "colab": {
          "base_uri": "https://localhost:8080/",
          "height": 357
        },
        "outputId": "814cf5f2-0879-4bea-a4d5-c74b94e541d1"
      },
      "source": [
        "# Install Java\n",
        "! apt-get install default-jre\n",
        "! java -version\n",
        "# Install h2o library for GLRM\n",
        "! pip install h2o"
      ],
      "execution_count": null,
      "outputs": [
        {
          "output_type": "stream",
          "text": [
            "Reading package lists... Done\n",
            "Building dependency tree       \n",
            "Reading state information... Done\n",
            "default-jre is already the newest version (2:1.11-68ubuntu1~18.04.1).\n",
            "The following package was automatically installed and is no longer required:\n",
            "  libnvidia-common-440\n",
            "Use 'apt autoremove' to remove it.\n",
            "0 upgraded, 0 newly installed, 0 to remove and 59 not upgraded.\n",
            "openjdk version \"11.0.7\" 2020-04-14\n",
            "OpenJDK Runtime Environment (build 11.0.7+10-post-Ubuntu-2ubuntu218.04)\n",
            "OpenJDK 64-Bit Server VM (build 11.0.7+10-post-Ubuntu-2ubuntu218.04, mixed mode, sharing)\n",
            "Requirement already satisfied: h2o in /usr/local/lib/python3.6/dist-packages (3.30.0.5)\n",
            "Requirement already satisfied: requests in /usr/local/lib/python3.6/dist-packages (from h2o) (2.23.0)\n",
            "Requirement already satisfied: future in /usr/local/lib/python3.6/dist-packages (from h2o) (0.16.0)\n",
            "Requirement already satisfied: tabulate in /usr/local/lib/python3.6/dist-packages (from h2o) (0.8.7)\n",
            "Requirement already satisfied: colorama>=0.3.8 in /usr/local/lib/python3.6/dist-packages (from h2o) (0.4.3)\n",
            "Requirement already satisfied: urllib3!=1.25.0,!=1.25.1,<1.26,>=1.21.1 in /usr/local/lib/python3.6/dist-packages (from requests->h2o) (1.24.3)\n",
            "Requirement already satisfied: chardet<4,>=3.0.2 in /usr/local/lib/python3.6/dist-packages (from requests->h2o) (3.0.4)\n",
            "Requirement already satisfied: certifi>=2017.4.17 in /usr/local/lib/python3.6/dist-packages (from requests->h2o) (2020.4.5.2)\n",
            "Requirement already satisfied: idna<3,>=2.5 in /usr/local/lib/python3.6/dist-packages (from requests->h2o) (2.9)\n"
          ],
          "name": "stdout"
        }
      ]
    },
    {
      "cell_type": "code",
      "metadata": {
        "id": "5TUtcH1LrQgn",
        "colab_type": "code",
        "colab": {
          "base_uri": "https://localhost:8080/",
          "height": 389
        },
        "outputId": "77111fce-b342-4740-f895-3b96cc23a594"
      },
      "source": [
        "import h2o # For GLRM\n",
        "from h2o.estimators.glrm import H2OGeneralizedLowRankEstimator\n",
        "h2o.init()\n",
        "h2o.remove_all() # Clean slate - just in case the cluster was already running"
      ],
      "execution_count": null,
      "outputs": [
        {
          "output_type": "stream",
          "text": [
            "Checking whether there is an H2O instance running at http://localhost:54321 . connected.\n"
          ],
          "name": "stdout"
        },
        {
          "output_type": "display_data",
          "data": {
            "text/html": [
              "<div style=\"overflow:auto\"><table style=\"width:50%\"><tr><td>H2O_cluster_uptime:</td>\n",
              "<td>3 hours 39 mins</td></tr>\n",
              "<tr><td>H2O_cluster_timezone:</td>\n",
              "<td>Etc/UTC</td></tr>\n",
              "<tr><td>H2O_data_parsing_timezone:</td>\n",
              "<td>UTC</td></tr>\n",
              "<tr><td>H2O_cluster_version:</td>\n",
              "<td>3.30.0.5</td></tr>\n",
              "<tr><td>H2O_cluster_version_age:</td>\n",
              "<td>1 day </td></tr>\n",
              "<tr><td>H2O_cluster_name:</td>\n",
              "<td>H2O_from_python_unknownUser_g2myph</td></tr>\n",
              "<tr><td>H2O_cluster_total_nodes:</td>\n",
              "<td>1</td></tr>\n",
              "<tr><td>H2O_cluster_free_memory:</td>\n",
              "<td>3.170 Gb</td></tr>\n",
              "<tr><td>H2O_cluster_total_cores:</td>\n",
              "<td>2</td></tr>\n",
              "<tr><td>H2O_cluster_allowed_cores:</td>\n",
              "<td>2</td></tr>\n",
              "<tr><td>H2O_cluster_status:</td>\n",
              "<td>locked, healthy</td></tr>\n",
              "<tr><td>H2O_connection_url:</td>\n",
              "<td>http://localhost:54321</td></tr>\n",
              "<tr><td>H2O_connection_proxy:</td>\n",
              "<td>{\"http\": null, \"https\": null}</td></tr>\n",
              "<tr><td>H2O_internal_security:</td>\n",
              "<td>False</td></tr>\n",
              "<tr><td>H2O_API_Extensions:</td>\n",
              "<td>Amazon S3, XGBoost, Algos, AutoML, Core V3, TargetEncoder, Core V4</td></tr>\n",
              "<tr><td>Python_version:</td>\n",
              "<td>3.6.9 final</td></tr></table></div>"
            ],
            "text/plain": [
              "--------------------------  ------------------------------------------------------------------\n",
              "H2O_cluster_uptime:         3 hours 39 mins\n",
              "H2O_cluster_timezone:       Etc/UTC\n",
              "H2O_data_parsing_timezone:  UTC\n",
              "H2O_cluster_version:        3.30.0.5\n",
              "H2O_cluster_version_age:    1 day\n",
              "H2O_cluster_name:           H2O_from_python_unknownUser_g2myph\n",
              "H2O_cluster_total_nodes:    1\n",
              "H2O_cluster_free_memory:    3.170 Gb\n",
              "H2O_cluster_total_cores:    2\n",
              "H2O_cluster_allowed_cores:  2\n",
              "H2O_cluster_status:         locked, healthy\n",
              "H2O_connection_url:         http://localhost:54321\n",
              "H2O_connection_proxy:       {\"http\": null, \"https\": null}\n",
              "H2O_internal_security:      False\n",
              "H2O_API_Extensions:         Amazon S3, XGBoost, Algos, AutoML, Core V3, TargetEncoder, Core V4\n",
              "Python_version:             3.6.9 final\n",
              "--------------------------  ------------------------------------------------------------------"
            ]
          },
          "metadata": {
            "tags": []
          }
        }
      ]
    },
    {
      "cell_type": "code",
      "metadata": {
        "id": "nEwdLzY8rV9f",
        "colab_type": "code",
        "colab": {}
      },
      "source": [
        "# Write updated dataframe into a single CSV file\n",
        "df.to_csv('Data/CreditCardDataUpdated.csv', columns = df.columns) "
      ],
      "execution_count": null,
      "outputs": []
    },
    {
      "cell_type": "code",
      "metadata": {
        "id": "ru7PM_vjZyjM",
        "colab_type": "code",
        "colab": {
          "base_uri": "https://localhost:8080/",
          "height": 459
        },
        "outputId": "3f5a255c-2db2-49cf-a8b7-179d0a94bc7b"
      },
      "source": [
        "# Import data as h2o dataframe\n",
        "dfh2o = h2o.import_file(path = os.path.realpath(\"Data/CreditCardDataUpdated.csv\"))\n",
        "dfh2o.types"
      ],
      "execution_count": null,
      "outputs": [
        {
          "output_type": "stream",
          "text": [
            "Parse progress: |█████████████████████████████████████████████████████████| 100%\n"
          ],
          "name": "stdout"
        },
        {
          "output_type": "execute_result",
          "data": {
            "text/plain": [
              "{'AGE': 'int',\n",
              " 'BILL_AMT1': 'int',\n",
              " 'BILL_AMT2': 'int',\n",
              " 'BILL_AMT3': 'int',\n",
              " 'BILL_AMT4': 'int',\n",
              " 'BILL_AMT5': 'int',\n",
              " 'BILL_AMT6': 'int',\n",
              " 'EDUCATION': 'int',\n",
              " 'ID': 'int',\n",
              " 'LIMIT_BAL': 'int',\n",
              " 'MARRIAGE': 'int',\n",
              " 'PAY_1': 'int',\n",
              " 'PAY_2': 'int',\n",
              " 'PAY_3': 'int',\n",
              " 'PAY_4': 'int',\n",
              " 'PAY_5': 'int',\n",
              " 'PAY_6': 'int',\n",
              " 'PAY_AMT1': 'int',\n",
              " 'PAY_AMT2': 'int',\n",
              " 'PAY_AMT3': 'int',\n",
              " 'PAY_AMT4': 'int',\n",
              " 'PAY_AMT5': 'int',\n",
              " 'PAY_AMT6': 'int',\n",
              " 'SEX': 'int',\n",
              " 'default.payment.next.month': 'int'}"
            ]
          },
          "metadata": {
            "tags": []
          },
          "execution_count": 68
        }
      ]
    },
    {
      "cell_type": "code",
      "metadata": {
        "id": "VgdaEZWfcLh4",
        "colab_type": "code",
        "colab": {
          "base_uri": "https://localhost:8080/",
          "height": 442
        },
        "outputId": "66e52936-6c6b-48b3-84ee-0b0206feb28e"
      },
      "source": [
        "# Reset categorical column data types in h2o dataframe\n",
        "dfh2o[categorical_cols] = dfh2o[categorical_cols].asfactor()\n",
        "dfh2o[\"default.payment.next.month\"] = dfh2o[\"default.payment.next.month\"].asfactor()\n",
        "dfh2o.types"
      ],
      "execution_count": null,
      "outputs": [
        {
          "output_type": "execute_result",
          "data": {
            "text/plain": [
              "{'AGE': 'int',\n",
              " 'BILL_AMT1': 'int',\n",
              " 'BILL_AMT2': 'int',\n",
              " 'BILL_AMT3': 'int',\n",
              " 'BILL_AMT4': 'int',\n",
              " 'BILL_AMT5': 'int',\n",
              " 'BILL_AMT6': 'int',\n",
              " 'EDUCATION': 'enum',\n",
              " 'ID': 'int',\n",
              " 'LIMIT_BAL': 'int',\n",
              " 'MARRIAGE': 'enum',\n",
              " 'PAY_1': 'enum',\n",
              " 'PAY_2': 'enum',\n",
              " 'PAY_3': 'enum',\n",
              " 'PAY_4': 'enum',\n",
              " 'PAY_5': 'enum',\n",
              " 'PAY_6': 'enum',\n",
              " 'PAY_AMT1': 'int',\n",
              " 'PAY_AMT2': 'int',\n",
              " 'PAY_AMT3': 'int',\n",
              " 'PAY_AMT4': 'int',\n",
              " 'PAY_AMT5': 'int',\n",
              " 'PAY_AMT6': 'int',\n",
              " 'SEX': 'enum',\n",
              " 'default.payment.next.month': 'enum'}"
            ]
          },
          "metadata": {
            "tags": []
          },
          "execution_count": 69
        }
      ]
    },
    {
      "cell_type": "code",
      "metadata": {
        "id": "LWwQKF9hdo5U",
        "colab_type": "code",
        "colab": {
          "base_uri": "https://localhost:8080/",
          "height": 1000
        },
        "outputId": "42c15b98-0ec6-47c3-a7ee-9c6facff1425"
      },
      "source": [
        "# Basic GLRM using absolute loss for continuous and categorical loss for\n",
        "# categorical colimns with no regularization and with stadardized columns\n",
        "model = H2OGeneralizedLowRankEstimator(k = 8,\n",
        "                                       loss = \"Absolute\", multi_loss = \"Categorical\",\n",
        "                                       transform = \"Standardize\",\n",
        "                                       regularization_x = \"None\",\n",
        "                                       regularization_y = \"None\",\n",
        "                                       max_iterations = 1000,\n",
        "                                       min_step_size = 1e-6)\n",
        "model.train(training_frame = dfh2o)\n",
        "model.show()"
      ],
      "execution_count": null,
      "outputs": [
        {
          "output_type": "stream",
          "text": [
            "glrm Model Build progress: |██████████████████████████████████████████████| 100%\n",
            "Model Details\n",
            "=============\n",
            "H2OGeneralizedLowRankEstimator :  Generalized Low Rank Modeling\n",
            "Model Key:  GLRM_model_python_1592572722235_11\n",
            "\n",
            "\n",
            "Model Summary: \n"
          ],
          "name": "stdout"
        },
        {
          "output_type": "display_data",
          "data": {
            "text/html": [
              "<div>\n",
              "<style scoped>\n",
              "    .dataframe tbody tr th:only-of-type {\n",
              "        vertical-align: middle;\n",
              "    }\n",
              "\n",
              "    .dataframe tbody tr th {\n",
              "        vertical-align: top;\n",
              "    }\n",
              "\n",
              "    .dataframe thead th {\n",
              "        text-align: right;\n",
              "    }\n",
              "</style>\n",
              "<table border=\"1\" class=\"dataframe\">\n",
              "  <thead>\n",
              "    <tr style=\"text-align: right;\">\n",
              "      <th></th>\n",
              "      <th></th>\n",
              "      <th>number_of_iterations</th>\n",
              "      <th>final_step_size</th>\n",
              "      <th>final_objective_value</th>\n",
              "    </tr>\n",
              "  </thead>\n",
              "  <tbody>\n",
              "    <tr>\n",
              "      <th>0</th>\n",
              "      <td></td>\n",
              "      <td>1000.0</td>\n",
              "      <td>0.00003</td>\n",
              "      <td>576221.282211</td>\n",
              "    </tr>\n",
              "  </tbody>\n",
              "</table>\n",
              "</div>"
            ],
            "text/plain": [
              "     number_of_iterations  final_step_size  final_objective_value\n",
              "0                  1000.0          0.00003          576221.282211"
            ]
          },
          "metadata": {
            "tags": []
          }
        },
        {
          "output_type": "stream",
          "text": [
            "\n",
            "\n",
            "ModelMetricsGLRM: glrm\n",
            "** Reported on train data. **\n",
            "\n",
            "MSE: NaN\n",
            "RMSE: NaN\n",
            "Sum of Squared Error (Numeric): 328333.3198105375\n",
            "Misclassification Error (Categorical): 108159.0\n",
            "\n",
            "Scoring History: \n"
          ],
          "name": "stdout"
        },
        {
          "output_type": "display_data",
          "data": {
            "text/html": [
              "<div>\n",
              "<style scoped>\n",
              "    .dataframe tbody tr th:only-of-type {\n",
              "        vertical-align: middle;\n",
              "    }\n",
              "\n",
              "    .dataframe tbody tr th {\n",
              "        vertical-align: top;\n",
              "    }\n",
              "\n",
              "    .dataframe thead th {\n",
              "        text-align: right;\n",
              "    }\n",
              "</style>\n",
              "<table border=\"1\" class=\"dataframe\">\n",
              "  <thead>\n",
              "    <tr style=\"text-align: right;\">\n",
              "      <th></th>\n",
              "      <th></th>\n",
              "      <th>timestamp</th>\n",
              "      <th>duration</th>\n",
              "      <th>iterations</th>\n",
              "      <th>step_size</th>\n",
              "      <th>objective</th>\n",
              "    </tr>\n",
              "  </thead>\n",
              "  <tbody>\n",
              "    <tr>\n",
              "      <th>0</th>\n",
              "      <td></td>\n",
              "      <td>2020-06-19 19:17:12</td>\n",
              "      <td>3.401 sec</td>\n",
              "      <td>0.0</td>\n",
              "      <td>0.666667</td>\n",
              "      <td>3.319228e+06</td>\n",
              "    </tr>\n",
              "    <tr>\n",
              "      <th>1</th>\n",
              "      <td></td>\n",
              "      <td>2020-06-19 19:17:13</td>\n",
              "      <td>4.510 sec</td>\n",
              "      <td>1.0</td>\n",
              "      <td>0.444444</td>\n",
              "      <td>3.319228e+06</td>\n",
              "    </tr>\n",
              "    <tr>\n",
              "      <th>2</th>\n",
              "      <td></td>\n",
              "      <td>2020-06-19 19:17:14</td>\n",
              "      <td>5.596 sec</td>\n",
              "      <td>2.0</td>\n",
              "      <td>0.222222</td>\n",
              "      <td>3.319228e+06</td>\n",
              "    </tr>\n",
              "    <tr>\n",
              "      <th>3</th>\n",
              "      <td></td>\n",
              "      <td>2020-06-19 19:17:15</td>\n",
              "      <td>6.684 sec</td>\n",
              "      <td>3.0</td>\n",
              "      <td>0.074074</td>\n",
              "      <td>3.319228e+06</td>\n",
              "    </tr>\n",
              "    <tr>\n",
              "      <th>4</th>\n",
              "      <td></td>\n",
              "      <td>2020-06-19 19:17:16</td>\n",
              "      <td>7.769 sec</td>\n",
              "      <td>4.0</td>\n",
              "      <td>0.018519</td>\n",
              "      <td>3.319228e+06</td>\n",
              "    </tr>\n",
              "    <tr>\n",
              "      <th>5</th>\n",
              "      <td></td>\n",
              "      <td>2020-06-19 19:17:17</td>\n",
              "      <td>8.902 sec</td>\n",
              "      <td>5.0</td>\n",
              "      <td>0.019444</td>\n",
              "      <td>9.518889e+05</td>\n",
              "    </tr>\n",
              "    <tr>\n",
              "      <th>6</th>\n",
              "      <td></td>\n",
              "      <td>2020-06-19 19:17:18</td>\n",
              "      <td>9.997 sec</td>\n",
              "      <td>6.0</td>\n",
              "      <td>0.012963</td>\n",
              "      <td>9.518889e+05</td>\n",
              "    </tr>\n",
              "    <tr>\n",
              "      <th>7</th>\n",
              "      <td></td>\n",
              "      <td>2020-06-19 19:17:19</td>\n",
              "      <td>11.090 sec</td>\n",
              "      <td>7.0</td>\n",
              "      <td>0.008642</td>\n",
              "      <td>9.518889e+05</td>\n",
              "    </tr>\n",
              "    <tr>\n",
              "      <th>8</th>\n",
              "      <td></td>\n",
              "      <td>2020-06-19 19:17:21</td>\n",
              "      <td>12.194 sec</td>\n",
              "      <td>8.0</td>\n",
              "      <td>0.009074</td>\n",
              "      <td>8.169873e+05</td>\n",
              "    </tr>\n",
              "    <tr>\n",
              "      <th>9</th>\n",
              "      <td></td>\n",
              "      <td>2020-06-19 19:17:22</td>\n",
              "      <td>13.291 sec</td>\n",
              "      <td>9.0</td>\n",
              "      <td>0.006049</td>\n",
              "      <td>8.169873e+05</td>\n",
              "    </tr>\n",
              "    <tr>\n",
              "      <th>10</th>\n",
              "      <td></td>\n",
              "      <td>2020-06-19 19:17:23</td>\n",
              "      <td>14.391 sec</td>\n",
              "      <td>10.0</td>\n",
              "      <td>0.006352</td>\n",
              "      <td>7.586855e+05</td>\n",
              "    </tr>\n",
              "    <tr>\n",
              "      <th>11</th>\n",
              "      <td></td>\n",
              "      <td>2020-06-19 19:17:24</td>\n",
              "      <td>15.487 sec</td>\n",
              "      <td>11.0</td>\n",
              "      <td>0.004235</td>\n",
              "      <td>7.586855e+05</td>\n",
              "    </tr>\n",
              "    <tr>\n",
              "      <th>12</th>\n",
              "      <td></td>\n",
              "      <td>2020-06-19 19:17:25</td>\n",
              "      <td>16.577 sec</td>\n",
              "      <td>12.0</td>\n",
              "      <td>0.004446</td>\n",
              "      <td>7.221427e+05</td>\n",
              "    </tr>\n",
              "    <tr>\n",
              "      <th>13</th>\n",
              "      <td></td>\n",
              "      <td>2020-06-19 19:17:26</td>\n",
              "      <td>17.667 sec</td>\n",
              "      <td>13.0</td>\n",
              "      <td>0.004669</td>\n",
              "      <td>7.172347e+05</td>\n",
              "    </tr>\n",
              "    <tr>\n",
              "      <th>14</th>\n",
              "      <td></td>\n",
              "      <td>2020-06-19 19:17:27</td>\n",
              "      <td>18.762 sec</td>\n",
              "      <td>14.0</td>\n",
              "      <td>0.003112</td>\n",
              "      <td>7.172347e+05</td>\n",
              "    </tr>\n",
              "    <tr>\n",
              "      <th>15</th>\n",
              "      <td></td>\n",
              "      <td>2020-06-19 19:17:28</td>\n",
              "      <td>19.869 sec</td>\n",
              "      <td>15.0</td>\n",
              "      <td>0.003268</td>\n",
              "      <td>6.859115e+05</td>\n",
              "    </tr>\n",
              "    <tr>\n",
              "      <th>16</th>\n",
              "      <td></td>\n",
              "      <td>2020-06-19 19:17:29</td>\n",
              "      <td>20.957 sec</td>\n",
              "      <td>16.0</td>\n",
              "      <td>0.002179</td>\n",
              "      <td>6.859115e+05</td>\n",
              "    </tr>\n",
              "    <tr>\n",
              "      <th>17</th>\n",
              "      <td></td>\n",
              "      <td>2020-06-19 19:17:30</td>\n",
              "      <td>22.077 sec</td>\n",
              "      <td>17.0</td>\n",
              "      <td>0.002288</td>\n",
              "      <td>6.690307e+05</td>\n",
              "    </tr>\n",
              "    <tr>\n",
              "      <th>18</th>\n",
              "      <td></td>\n",
              "      <td>2020-06-19 19:17:32</td>\n",
              "      <td>23.185 sec</td>\n",
              "      <td>18.0</td>\n",
              "      <td>0.001525</td>\n",
              "      <td>6.690307e+05</td>\n",
              "    </tr>\n",
              "    <tr>\n",
              "      <th>19</th>\n",
              "      <td></td>\n",
              "      <td>2020-06-19 19:17:33</td>\n",
              "      <td>24.293 sec</td>\n",
              "      <td>19.0</td>\n",
              "      <td>0.001601</td>\n",
              "      <td>6.628626e+05</td>\n",
              "    </tr>\n",
              "  </tbody>\n",
              "</table>\n",
              "</div>"
            ],
            "text/plain": [
              "                timestamp    duration  iterations  step_size     objective\n",
              "0     2020-06-19 19:17:12   3.401 sec         0.0   0.666667  3.319228e+06\n",
              "1     2020-06-19 19:17:13   4.510 sec         1.0   0.444444  3.319228e+06\n",
              "2     2020-06-19 19:17:14   5.596 sec         2.0   0.222222  3.319228e+06\n",
              "3     2020-06-19 19:17:15   6.684 sec         3.0   0.074074  3.319228e+06\n",
              "4     2020-06-19 19:17:16   7.769 sec         4.0   0.018519  3.319228e+06\n",
              "5     2020-06-19 19:17:17   8.902 sec         5.0   0.019444  9.518889e+05\n",
              "6     2020-06-19 19:17:18   9.997 sec         6.0   0.012963  9.518889e+05\n",
              "7     2020-06-19 19:17:19  11.090 sec         7.0   0.008642  9.518889e+05\n",
              "8     2020-06-19 19:17:21  12.194 sec         8.0   0.009074  8.169873e+05\n",
              "9     2020-06-19 19:17:22  13.291 sec         9.0   0.006049  8.169873e+05\n",
              "10    2020-06-19 19:17:23  14.391 sec        10.0   0.006352  7.586855e+05\n",
              "11    2020-06-19 19:17:24  15.487 sec        11.0   0.004235  7.586855e+05\n",
              "12    2020-06-19 19:17:25  16.577 sec        12.0   0.004446  7.221427e+05\n",
              "13    2020-06-19 19:17:26  17.667 sec        13.0   0.004669  7.172347e+05\n",
              "14    2020-06-19 19:17:27  18.762 sec        14.0   0.003112  7.172347e+05\n",
              "15    2020-06-19 19:17:28  19.869 sec        15.0   0.003268  6.859115e+05\n",
              "16    2020-06-19 19:17:29  20.957 sec        16.0   0.002179  6.859115e+05\n",
              "17    2020-06-19 19:17:30  22.077 sec        17.0   0.002288  6.690307e+05\n",
              "18    2020-06-19 19:17:32  23.185 sec        18.0   0.001525  6.690307e+05\n",
              "19    2020-06-19 19:17:33  24.293 sec        19.0   0.001601  6.628626e+05"
            ]
          },
          "metadata": {
            "tags": []
          }
        },
        {
          "output_type": "stream",
          "text": [
            "\n",
            "See the whole table with table.as_data_frame()\n"
          ],
          "name": "stdout"
        }
      ]
    },
    {
      "cell_type": "code",
      "metadata": {
        "id": "6MYv8xuyhjDS",
        "colab_type": "code",
        "colab": {
          "base_uri": "https://localhost:8080/",
          "height": 176
        },
        "outputId": "39ddff88-479d-40bc-86bb-bca9cd21be2f"
      },
      "source": [
        "# Print importance of each component of GLRM model\n",
        "model._model_json[\"output\"][\"importance\"]"
      ],
      "execution_count": null,
      "outputs": [
        {
          "output_type": "stream",
          "text": [
            "\n",
            "Importance of components: \n"
          ],
          "name": "stdout"
        },
        {
          "output_type": "display_data",
          "data": {
            "text/html": [
              "<div>\n",
              "<style scoped>\n",
              "    .dataframe tbody tr th:only-of-type {\n",
              "        vertical-align: middle;\n",
              "    }\n",
              "\n",
              "    .dataframe tbody tr th {\n",
              "        vertical-align: top;\n",
              "    }\n",
              "\n",
              "    .dataframe thead th {\n",
              "        text-align: right;\n",
              "    }\n",
              "</style>\n",
              "<table border=\"1\" class=\"dataframe\">\n",
              "  <thead>\n",
              "    <tr style=\"text-align: right;\">\n",
              "      <th></th>\n",
              "      <th></th>\n",
              "      <th>pc1</th>\n",
              "      <th>pc2</th>\n",
              "      <th>pc3</th>\n",
              "    </tr>\n",
              "  </thead>\n",
              "  <tbody>\n",
              "    <tr>\n",
              "      <th>0</th>\n",
              "      <td>Standard deviation</td>\n",
              "      <td>4.956514</td>\n",
              "      <td>0.605843</td>\n",
              "      <td>0.257398</td>\n",
              "    </tr>\n",
              "    <tr>\n",
              "      <th>1</th>\n",
              "      <td>Proportion of Variance</td>\n",
              "      <td>0.982668</td>\n",
              "      <td>0.014682</td>\n",
              "      <td>0.002650</td>\n",
              "    </tr>\n",
              "    <tr>\n",
              "      <th>2</th>\n",
              "      <td>Cumulative Proportion</td>\n",
              "      <td>0.982668</td>\n",
              "      <td>0.997350</td>\n",
              "      <td>1.000000</td>\n",
              "    </tr>\n",
              "  </tbody>\n",
              "</table>\n",
              "</div>"
            ],
            "text/plain": [
              "                                pc1       pc2       pc3\n",
              "0      Standard deviation  4.956514  0.605843  0.257398\n",
              "1  Proportion of Variance  0.982668  0.014682  0.002650\n",
              "2   Cumulative Proportion  0.982668  0.997350  1.000000"
            ]
          },
          "metadata": {
            "tags": []
          }
        },
        {
          "output_type": "execute_result",
          "data": {
            "text/plain": [
              ""
            ]
          },
          "metadata": {
            "tags": []
          },
          "execution_count": 72
        }
      ]
    },
    {
      "cell_type": "code",
      "metadata": {
        "id": "11IXiWAKgCaQ",
        "colab_type": "code",
        "colab": {
          "base_uri": "https://localhost:8080/",
          "height": 480
        },
        "outputId": "32eee72a-d259-4361-9ad8-648d1a1a59db"
      },
      "source": [
        "# Split the feature matrix into product of two matrices X and Y\n",
        "# The matrix X has the same number of rows as the original feature matrix\n",
        "# but a reduced number of columns representing the original features\n",
        "# GLRM matrix factors X and Y\n",
        "X_matrix = h2o.get_frame(model._model_json[\"output\"][\"representation_name\"])\n",
        "print(X_matrix)\n",
        "Y_matrix = model._model_json[\"output\"][\"archetypes\"]\n",
        "print(Y_matrix)\n",
        "print(X_matrix.shape)\n"
      ],
      "execution_count": null,
      "outputs": [
        {
          "output_type": "display_data",
          "data": {
            "text/html": [
              "<table>\n",
              "<thead>\n",
              "<tr><th style=\"text-align: right;\">     Arch1</th><th style=\"text-align: right;\">    Arch2</th><th style=\"text-align: right;\">    Arch3</th></tr>\n",
              "</thead>\n",
              "<tbody>\n",
              "<tr><td style=\"text-align: right;\"> 0.16977  </td><td style=\"text-align: right;\">0.0371941</td><td style=\"text-align: right;\">0.0573564</td></tr>\n",
              "<tr><td style=\"text-align: right;\"> 0.249982 </td><td style=\"text-align: right;\">0.0801862</td><td style=\"text-align: right;\">0.139346 </td></tr>\n",
              "<tr><td style=\"text-align: right;\"> 0.245592 </td><td style=\"text-align: right;\">0.0872509</td><td style=\"text-align: right;\">0.167379 </td></tr>\n",
              "<tr><td style=\"text-align: right;\"> 0.203772 </td><td style=\"text-align: right;\">0.088097 </td><td style=\"text-align: right;\">0.203047 </td></tr>\n",
              "<tr><td style=\"text-align: right;\"> 0.229334 </td><td style=\"text-align: right;\">0.110908 </td><td style=\"text-align: right;\">0.133126 </td></tr>\n",
              "<tr><td style=\"text-align: right;\"> 0.230555 </td><td style=\"text-align: right;\">0.0851795</td><td style=\"text-align: right;\">0.169653 </td></tr>\n",
              "<tr><td style=\"text-align: right;\">-0.0664681</td><td style=\"text-align: right;\">0.219869 </td><td style=\"text-align: right;\">0.481943 </td></tr>\n",
              "<tr><td style=\"text-align: right;\"> 0.254501 </td><td style=\"text-align: right;\">0.0797188</td><td style=\"text-align: right;\">0.135809 </td></tr>\n",
              "<tr><td style=\"text-align: right;\"> 0.234567 </td><td style=\"text-align: right;\">0.0788905</td><td style=\"text-align: right;\">0.14969  </td></tr>\n",
              "<tr><td style=\"text-align: right;\"> 0.257105 </td><td style=\"text-align: right;\">0.0802795</td><td style=\"text-align: right;\">0.138316 </td></tr>\n",
              "</tbody>\n",
              "</table>"
            ]
          },
          "metadata": {
            "tags": []
          }
        },
        {
          "output_type": "stream",
          "text": [
            "\n",
            "\n",
            "Archetypes: \n"
          ],
          "name": "stdout"
        },
        {
          "output_type": "display_data",
          "data": {
            "text/html": [
              "<div>\n",
              "<style scoped>\n",
              "    .dataframe tbody tr th:only-of-type {\n",
              "        vertical-align: middle;\n",
              "    }\n",
              "\n",
              "    .dataframe tbody tr th {\n",
              "        vertical-align: top;\n",
              "    }\n",
              "\n",
              "    .dataframe thead th {\n",
              "        text-align: right;\n",
              "    }\n",
              "</style>\n",
              "<table border=\"1\" class=\"dataframe\">\n",
              "  <thead>\n",
              "    <tr style=\"text-align: right;\">\n",
              "      <th></th>\n",
              "      <th></th>\n",
              "      <th>pay_11</th>\n",
              "      <th>pay_10</th>\n",
              "      <th>pay_11</th>\n",
              "      <th>pay_12</th>\n",
              "      <th>pay_13</th>\n",
              "      <th>pay_14</th>\n",
              "      <th>pay_15</th>\n",
              "      <th>pay_16</th>\n",
              "      <th>pay_17</th>\n",
              "      <th>pay_18</th>\n",
              "      <th>pay_21</th>\n",
              "      <th>pay_20</th>\n",
              "      <th>pay_21</th>\n",
              "      <th>pay_22</th>\n",
              "      <th>pay_23</th>\n",
              "      <th>pay_24</th>\n",
              "      <th>pay_25</th>\n",
              "      <th>pay_26</th>\n",
              "      <th>pay_27</th>\n",
              "      <th>pay_28</th>\n",
              "      <th>pay_31</th>\n",
              "      <th>pay_30</th>\n",
              "      <th>pay_31</th>\n",
              "      <th>pay_32</th>\n",
              "      <th>pay_33</th>\n",
              "      <th>pay_34</th>\n",
              "      <th>pay_35</th>\n",
              "      <th>pay_36</th>\n",
              "      <th>pay_37</th>\n",
              "      <th>pay_38</th>\n",
              "      <th>pay_41</th>\n",
              "      <th>pay_40</th>\n",
              "      <th>pay_41</th>\n",
              "      <th>pay_42</th>\n",
              "      <th>pay_43</th>\n",
              "      <th>pay_44</th>\n",
              "      <th>pay_45</th>\n",
              "      <th>pay_46</th>\n",
              "      <th>pay_47</th>\n",
              "      <th>pay_48</th>\n",
              "      <th>pay_51</th>\n",
              "      <th>pay_50</th>\n",
              "      <th>pay_52</th>\n",
              "      <th>pay_53</th>\n",
              "      <th>pay_54</th>\n",
              "      <th>pay_55</th>\n",
              "      <th>pay_56</th>\n",
              "      <th>pay_57</th>\n",
              "      <th>pay_58</th>\n",
              "      <th>pay_61</th>\n",
              "      <th>pay_60</th>\n",
              "      <th>pay_62</th>\n",
              "      <th>pay_63</th>\n",
              "      <th>pay_64</th>\n",
              "      <th>pay_65</th>\n",
              "      <th>pay_66</th>\n",
              "      <th>pay_67</th>\n",
              "      <th>pay_68</th>\n",
              "      <th>education1</th>\n",
              "      <th>education2</th>\n",
              "      <th>education3</th>\n",
              "      <th>education4</th>\n",
              "      <th>education5</th>\n",
              "      <th>marriage1</th>\n",
              "      <th>marriage2</th>\n",
              "      <th>marriage3</th>\n",
              "      <th>sex1</th>\n",
              "      <th>sex2</th>\n",
              "      <th>defaultpaymentnextmonth0</th>\n",
              "      <th>defaultpaymentnextmonth1</th>\n",
              "      <th>id</th>\n",
              "      <th>limit_bal</th>\n",
              "      <th>age</th>\n",
              "      <th>bill_amt1</th>\n",
              "      <th>bill_amt2</th>\n",
              "      <th>bill_amt3</th>\n",
              "      <th>bill_amt4</th>\n",
              "      <th>bill_amt5</th>\n",
              "      <th>bill_amt6</th>\n",
              "      <th>pay_amt1</th>\n",
              "      <th>pay_amt2</th>\n",
              "      <th>pay_amt3</th>\n",
              "      <th>pay_amt4</th>\n",
              "      <th>pay_amt5</th>\n",
              "      <th>pay_amt6</th>\n",
              "    </tr>\n",
              "  </thead>\n",
              "  <tbody>\n",
              "    <tr>\n",
              "      <th>0</th>\n",
              "      <td>Arch1</td>\n",
              "      <td>-1.242851</td>\n",
              "      <td>1.108920</td>\n",
              "      <td>-4.303666</td>\n",
              "      <td>-4.905946</td>\n",
              "      <td>-6.956604</td>\n",
              "      <td>-7.402189</td>\n",
              "      <td>-7.512478</td>\n",
              "      <td>-7.546839</td>\n",
              "      <td>-7.553639</td>\n",
              "      <td>-7.535252</td>\n",
              "      <td>-1.160108</td>\n",
              "      <td>1.541905</td>\n",
              "      <td>-7.485667</td>\n",
              "      <td>-4.921203</td>\n",
              "      <td>-6.957121</td>\n",
              "      <td>-7.361615</td>\n",
              "      <td>-7.520648</td>\n",
              "      <td>-7.548382</td>\n",
              "      <td>-7.533312</td>\n",
              "      <td>-7.562009</td>\n",
              "      <td>-1.167666</td>\n",
              "      <td>1.518440</td>\n",
              "      <td>-7.557201</td>\n",
              "      <td>-4.910558</td>\n",
              "      <td>-7.021443</td>\n",
              "      <td>-7.417072</td>\n",
              "      <td>-7.527526</td>\n",
              "      <td>-7.525878</td>\n",
              "      <td>-7.494648</td>\n",
              "      <td>-7.557189</td>\n",
              "      <td>-1.185930</td>\n",
              "      <td>1.386619</td>\n",
              "      <td>-7.562648</td>\n",
              "      <td>-4.898548</td>\n",
              "      <td>-7.169942</td>\n",
              "      <td>-7.422253</td>\n",
              "      <td>-7.496588</td>\n",
              "      <td>-7.552905</td>\n",
              "      <td>-7.416308</td>\n",
              "      <td>-7.559722</td>\n",
              "      <td>-1.061557</td>\n",
              "      <td>1.220626</td>\n",
              "      <td>-4.838799</td>\n",
              "      <td>-7.166712</td>\n",
              "      <td>-7.390444</td>\n",
              "      <td>-7.527609</td>\n",
              "      <td>-7.556930</td>\n",
              "      <td>-7.414722</td>\n",
              "      <td>-7.561927</td>\n",
              "      <td>-1.228451</td>\n",
              "      <td>1.400177</td>\n",
              "      <td>-4.868575</td>\n",
              "      <td>-7.131242</td>\n",
              "      <td>-7.454413</td>\n",
              "      <td>-7.537500</td>\n",
              "      <td>-7.520356</td>\n",
              "      <td>-7.444504</td>\n",
              "      <td>-7.560451</td>\n",
              "      <td>-2.559936</td>\n",
              "      <td>-2.730699</td>\n",
              "      <td>-4.023236</td>\n",
              "      <td>-7.165241</td>\n",
              "      <td>-6.976140</td>\n",
              "      <td>-3.784100</td>\n",
              "      <td>3.780202</td>\n",
              "      <td>-6.971930</td>\n",
              "      <td>-2.681179</td>\n",
              "      <td>2.653519</td>\n",
              "      <td>3.182054</td>\n",
              "      <td>-3.133993</td>\n",
              "      <td>-0.589815</td>\n",
              "      <td>-3.300007</td>\n",
              "      <td>-1.535000</td>\n",
              "      <td>-5.970439</td>\n",
              "      <td>-6.179876</td>\n",
              "      <td>-7.239225</td>\n",
              "      <td>-6.310945</td>\n",
              "      <td>-6.294233</td>\n",
              "      <td>-6.398170</td>\n",
              "      <td>-4.289318</td>\n",
              "      <td>-8.282827</td>\n",
              "      <td>-3.629066</td>\n",
              "      <td>-3.023294</td>\n",
              "      <td>-2.734428</td>\n",
              "      <td>-1.996493</td>\n",
              "    </tr>\n",
              "    <tr>\n",
              "      <th>1</th>\n",
              "      <td>Arch2</td>\n",
              "      <td>-0.474314</td>\n",
              "      <td>0.975714</td>\n",
              "      <td>-2.799862</td>\n",
              "      <td>-2.776542</td>\n",
              "      <td>-4.758408</td>\n",
              "      <td>-4.960861</td>\n",
              "      <td>-5.015814</td>\n",
              "      <td>-5.031694</td>\n",
              "      <td>-5.033299</td>\n",
              "      <td>-5.024423</td>\n",
              "      <td>-0.381469</td>\n",
              "      <td>0.423907</td>\n",
              "      <td>-4.998735</td>\n",
              "      <td>-2.642639</td>\n",
              "      <td>-4.755701</td>\n",
              "      <td>-4.944969</td>\n",
              "      <td>-5.018946</td>\n",
              "      <td>-5.030423</td>\n",
              "      <td>-5.023584</td>\n",
              "      <td>-5.041103</td>\n",
              "      <td>-0.221487</td>\n",
              "      <td>0.445915</td>\n",
              "      <td>-5.036663</td>\n",
              "      <td>-2.685659</td>\n",
              "      <td>-4.803789</td>\n",
              "      <td>-4.968601</td>\n",
              "      <td>-5.021279</td>\n",
              "      <td>-5.021047</td>\n",
              "      <td>-5.018407</td>\n",
              "      <td>-5.039231</td>\n",
              "      <td>-0.564040</td>\n",
              "      <td>1.236912</td>\n",
              "      <td>-5.039143</td>\n",
              "      <td>-2.794849</td>\n",
              "      <td>-4.861379</td>\n",
              "      <td>-4.974549</td>\n",
              "      <td>-5.009314</td>\n",
              "      <td>-5.037050</td>\n",
              "      <td>-4.990463</td>\n",
              "      <td>-5.040245</td>\n",
              "      <td>-1.443307</td>\n",
              "      <td>2.208184</td>\n",
              "      <td>-2.903517</td>\n",
              "      <td>-4.863830</td>\n",
              "      <td>-4.959926</td>\n",
              "      <td>-5.024922</td>\n",
              "      <td>-5.037343</td>\n",
              "      <td>-4.991128</td>\n",
              "      <td>-5.041237</td>\n",
              "      <td>-0.555787</td>\n",
              "      <td>1.210095</td>\n",
              "      <td>-2.841947</td>\n",
              "      <td>-4.850303</td>\n",
              "      <td>-4.995071</td>\n",
              "      <td>-5.028326</td>\n",
              "      <td>-5.021626</td>\n",
              "      <td>-5.002176</td>\n",
              "      <td>-5.040204</td>\n",
              "      <td>0.375329</td>\n",
              "      <td>-1.810596</td>\n",
              "      <td>-1.903443</td>\n",
              "      <td>-4.848578</td>\n",
              "      <td>-4.666287</td>\n",
              "      <td>-0.560564</td>\n",
              "      <td>0.830788</td>\n",
              "      <td>-4.682203</td>\n",
              "      <td>-0.974147</td>\n",
              "      <td>1.135492</td>\n",
              "      <td>2.299546</td>\n",
              "      <td>-2.586772</td>\n",
              "      <td>1.195497</td>\n",
              "      <td>4.120714</td>\n",
              "      <td>0.977011</td>\n",
              "      <td>3.144351</td>\n",
              "      <td>4.092584</td>\n",
              "      <td>10.715043</td>\n",
              "      <td>4.408919</td>\n",
              "      <td>4.282614</td>\n",
              "      <td>5.211535</td>\n",
              "      <td>16.755282</td>\n",
              "      <td>42.567672</td>\n",
              "      <td>13.876994</td>\n",
              "      <td>9.937138</td>\n",
              "      <td>8.020880</td>\n",
              "      <td>4.507270</td>\n",
              "    </tr>\n",
              "    <tr>\n",
              "      <th>2</th>\n",
              "      <td>Arch3</td>\n",
              "      <td>-4.659278</td>\n",
              "      <td>3.897768</td>\n",
              "      <td>-2.357071</td>\n",
              "      <td>-2.208568</td>\n",
              "      <td>-6.865677</td>\n",
              "      <td>-7.183097</td>\n",
              "      <td>-7.297586</td>\n",
              "      <td>-7.329868</td>\n",
              "      <td>-7.331432</td>\n",
              "      <td>-7.311780</td>\n",
              "      <td>-4.819950</td>\n",
              "      <td>4.040849</td>\n",
              "      <td>-7.285411</td>\n",
              "      <td>-2.062222</td>\n",
              "      <td>-6.866088</td>\n",
              "      <td>-7.150269</td>\n",
              "      <td>-7.302203</td>\n",
              "      <td>-7.324710</td>\n",
              "      <td>-7.310008</td>\n",
              "      <td>-7.353822</td>\n",
              "      <td>-4.898544</td>\n",
              "      <td>4.069513</td>\n",
              "      <td>-7.344458</td>\n",
              "      <td>-2.063792</td>\n",
              "      <td>-6.908506</td>\n",
              "      <td>-7.199541</td>\n",
              "      <td>-7.307090</td>\n",
              "      <td>-7.305871</td>\n",
              "      <td>-7.315395</td>\n",
              "      <td>-7.350639</td>\n",
              "      <td>-4.697811</td>\n",
              "      <td>3.857149</td>\n",
              "      <td>-7.349349</td>\n",
              "      <td>-2.215378</td>\n",
              "      <td>-7.002536</td>\n",
              "      <td>-7.218087</td>\n",
              "      <td>-7.285249</td>\n",
              "      <td>-7.346118</td>\n",
              "      <td>-7.270575</td>\n",
              "      <td>-7.352161</td>\n",
              "      <td>-4.433027</td>\n",
              "      <td>3.603796</td>\n",
              "      <td>-2.353408</td>\n",
              "      <td>-7.004135</td>\n",
              "      <td>-7.190295</td>\n",
              "      <td>-7.323521</td>\n",
              "      <td>-7.348385</td>\n",
              "      <td>-7.270028</td>\n",
              "      <td>-7.354409</td>\n",
              "      <td>-4.638756</td>\n",
              "      <td>3.850363</td>\n",
              "      <td>-2.293431</td>\n",
              "      <td>-6.984632</td>\n",
              "      <td>-7.267476</td>\n",
              "      <td>-7.331266</td>\n",
              "      <td>-7.318201</td>\n",
              "      <td>-7.289765</td>\n",
              "      <td>-7.351962</td>\n",
              "      <td>-2.801919</td>\n",
              "      <td>-0.843216</td>\n",
              "      <td>-2.209782</td>\n",
              "      <td>-7.001527</td>\n",
              "      <td>-6.798256</td>\n",
              "      <td>-0.126824</td>\n",
              "      <td>-0.039639</td>\n",
              "      <td>-6.801205</td>\n",
              "      <td>-1.767021</td>\n",
              "      <td>1.723581</td>\n",
              "      <td>1.866040</td>\n",
              "      <td>-1.788647</td>\n",
              "      <td>0.186501</td>\n",
              "      <td>-0.203192</td>\n",
              "      <td>-0.316216</td>\n",
              "      <td>4.257173</td>\n",
              "      <td>4.128689</td>\n",
              "      <td>2.336352</td>\n",
              "      <td>4.323264</td>\n",
              "      <td>4.474160</td>\n",
              "      <td>4.212626</td>\n",
              "      <td>-4.054284</td>\n",
              "      <td>-11.168318</td>\n",
              "      <td>-3.432078</td>\n",
              "      <td>-2.362534</td>\n",
              "      <td>-1.830132</td>\n",
              "      <td>-1.012275</td>\n",
              "    </tr>\n",
              "  </tbody>\n",
              "</table>\n",
              "</div>"
            ],
            "text/plain": [
              "            pay_11    pay_10    pay_11    pay_12    pay_13    pay_14  \\\n",
              "0  Arch1 -1.242851  1.108920 -4.303666 -4.905946 -6.956604 -7.402189   \n",
              "1  Arch2 -0.474314  0.975714 -2.799862 -2.776542 -4.758408 -4.960861   \n",
              "2  Arch3 -4.659278  3.897768 -2.357071 -2.208568 -6.865677 -7.183097   \n",
              "\n",
              "     pay_15    pay_16    pay_17    pay_18    pay_21    pay_20    pay_21  \\\n",
              "0 -7.512478 -7.546839 -7.553639 -7.535252 -1.160108  1.541905 -7.485667   \n",
              "1 -5.015814 -5.031694 -5.033299 -5.024423 -0.381469  0.423907 -4.998735   \n",
              "2 -7.297586 -7.329868 -7.331432 -7.311780 -4.819950  4.040849 -7.285411   \n",
              "\n",
              "     pay_22    pay_23    pay_24    pay_25    pay_26    pay_27    pay_28  \\\n",
              "0 -4.921203 -6.957121 -7.361615 -7.520648 -7.548382 -7.533312 -7.562009   \n",
              "1 -2.642639 -4.755701 -4.944969 -5.018946 -5.030423 -5.023584 -5.041103   \n",
              "2 -2.062222 -6.866088 -7.150269 -7.302203 -7.324710 -7.310008 -7.353822   \n",
              "\n",
              "     pay_31    pay_30    pay_31    pay_32    pay_33    pay_34    pay_35  \\\n",
              "0 -1.167666  1.518440 -7.557201 -4.910558 -7.021443 -7.417072 -7.527526   \n",
              "1 -0.221487  0.445915 -5.036663 -2.685659 -4.803789 -4.968601 -5.021279   \n",
              "2 -4.898544  4.069513 -7.344458 -2.063792 -6.908506 -7.199541 -7.307090   \n",
              "\n",
              "     pay_36    pay_37    pay_38    pay_41    pay_40    pay_41    pay_42  \\\n",
              "0 -7.525878 -7.494648 -7.557189 -1.185930  1.386619 -7.562648 -4.898548   \n",
              "1 -5.021047 -5.018407 -5.039231 -0.564040  1.236912 -5.039143 -2.794849   \n",
              "2 -7.305871 -7.315395 -7.350639 -4.697811  3.857149 -7.349349 -2.215378   \n",
              "\n",
              "     pay_43    pay_44    pay_45    pay_46    pay_47    pay_48    pay_51  \\\n",
              "0 -7.169942 -7.422253 -7.496588 -7.552905 -7.416308 -7.559722 -1.061557   \n",
              "1 -4.861379 -4.974549 -5.009314 -5.037050 -4.990463 -5.040245 -1.443307   \n",
              "2 -7.002536 -7.218087 -7.285249 -7.346118 -7.270575 -7.352161 -4.433027   \n",
              "\n",
              "     pay_50    pay_52    pay_53    pay_54    pay_55    pay_56    pay_57  \\\n",
              "0  1.220626 -4.838799 -7.166712 -7.390444 -7.527609 -7.556930 -7.414722   \n",
              "1  2.208184 -2.903517 -4.863830 -4.959926 -5.024922 -5.037343 -4.991128   \n",
              "2  3.603796 -2.353408 -7.004135 -7.190295 -7.323521 -7.348385 -7.270028   \n",
              "\n",
              "     pay_58    pay_61    pay_60    pay_62    pay_63    pay_64    pay_65  \\\n",
              "0 -7.561927 -1.228451  1.400177 -4.868575 -7.131242 -7.454413 -7.537500   \n",
              "1 -5.041237 -0.555787  1.210095 -2.841947 -4.850303 -4.995071 -5.028326   \n",
              "2 -7.354409 -4.638756  3.850363 -2.293431 -6.984632 -7.267476 -7.331266   \n",
              "\n",
              "     pay_66    pay_67    pay_68  education1  education2  education3  \\\n",
              "0 -7.520356 -7.444504 -7.560451   -2.559936   -2.730699   -4.023236   \n",
              "1 -5.021626 -5.002176 -5.040204    0.375329   -1.810596   -1.903443   \n",
              "2 -7.318201 -7.289765 -7.351962   -2.801919   -0.843216   -2.209782   \n",
              "\n",
              "   education4  education5  marriage1  marriage2  marriage3      sex1  \\\n",
              "0   -7.165241   -6.976140  -3.784100   3.780202  -6.971930 -2.681179   \n",
              "1   -4.848578   -4.666287  -0.560564   0.830788  -4.682203 -0.974147   \n",
              "2   -7.001527   -6.798256  -0.126824  -0.039639  -6.801205 -1.767021   \n",
              "\n",
              "       sex2  defaultpaymentnextmonth0  defaultpaymentnextmonth1        id  \\\n",
              "0  2.653519                  3.182054                 -3.133993 -0.589815   \n",
              "1  1.135492                  2.299546                 -2.586772  1.195497   \n",
              "2  1.723581                  1.866040                 -1.788647  0.186501   \n",
              "\n",
              "   limit_bal       age  bill_amt1  bill_amt2  bill_amt3  bill_amt4  bill_amt5  \\\n",
              "0  -3.300007 -1.535000  -5.970439  -6.179876  -7.239225  -6.310945  -6.294233   \n",
              "1   4.120714  0.977011   3.144351   4.092584  10.715043   4.408919   4.282614   \n",
              "2  -0.203192 -0.316216   4.257173   4.128689   2.336352   4.323264   4.474160   \n",
              "\n",
              "   bill_amt6   pay_amt1   pay_amt2   pay_amt3  pay_amt4  pay_amt5  pay_amt6  \n",
              "0  -6.398170  -4.289318  -8.282827  -3.629066 -3.023294 -2.734428 -1.996493  \n",
              "1   5.211535  16.755282  42.567672  13.876994  9.937138  8.020880  4.507270  \n",
              "2   4.212626  -4.054284 -11.168318  -3.432078 -2.362534 -1.830132 -1.012275  "
            ]
          },
          "metadata": {
            "tags": []
          }
        },
        {
          "output_type": "stream",
          "text": [
            "\n",
            "(30000, 3)\n"
          ],
          "name": "stdout"
        }
      ]
    },
    {
      "cell_type": "code",
      "metadata": {
        "id": "VVPsogWNgEHx",
        "colab_type": "code",
        "colab": {
          "base_uri": "https://localhost:8080/",
          "height": 51
        },
        "outputId": "1abfe13b-27b6-4ee1-c7d2-a35667863a13"
      },
      "source": [
        "# Data for training and testing\n",
        "X = np.array(h2o.as_list(X_matrix))\n",
        "print(X.shape)\n",
        "y = df['default.payment.next.month'].to_numpy()\n",
        "print(y.shape)"
      ],
      "execution_count": null,
      "outputs": [
        {
          "output_type": "stream",
          "text": [
            "(30000, 3)\n",
            "(30000,)\n"
          ],
          "name": "stdout"
        }
      ]
    },
    {
      "cell_type": "code",
      "metadata": {
        "id": "zzW_-ZaEgvil",
        "colab_type": "code",
        "colab": {}
      },
      "source": [
        "# Stratified train & test split\n",
        "X_train, X_test, y_train, y_test = train_test_split(X, y, stratify = y, test_size = 0.25)"
      ],
      "execution_count": null,
      "outputs": []
    },
    {
      "cell_type": "code",
      "metadata": {
        "id": "D3fZww8WIVrS",
        "colab_type": "code",
        "colab": {}
      },
      "source": [
        "# import model and matrics\n",
        "from sklearn.linear_model import LogisticRegression\n",
        "from sklearn.model_selection import train_test_split, GridSearchCV, cross_val_score, RepeatedStratifiedKFold, StratifiedKFold\n",
        "from sklearn.metrics import accuracy_score, confusion_matrix,roc_curve, roc_auc_score, precision_score, recall_score, precision_recall_curve\n",
        "from sklearn.metrics import f1_score"
      ],
      "execution_count": null,
      "outputs": []
    },
    {
      "cell_type": "code",
      "metadata": {
        "id": "-PA_bbY0IcBo",
        "colab_type": "code",
        "colab": {
          "base_uri": "https://localhost:8080/",
          "height": 102
        },
        "outputId": "c0875a5d-f45d-48ad-bb5d-f4b32f970178"
      },
      "source": [
        "from sklearn.linear_model import LogisticRegression \n",
        "classifier_LR = LogisticRegression(random_state = 0) \n",
        "classifier_LR.fit(X_train,y_train)"
      ],
      "execution_count": null,
      "outputs": [
        {
          "output_type": "execute_result",
          "data": {
            "text/plain": [
              "LogisticRegression(C=1.0, class_weight=None, dual=False, fit_intercept=True,\n",
              "                   intercept_scaling=1, l1_ratio=None, max_iter=100,\n",
              "                   multi_class='auto', n_jobs=None, penalty='l2',\n",
              "                   random_state=0, solver='lbfgs', tol=0.0001, verbose=0,\n",
              "                   warm_start=False)"
            ]
          },
          "metadata": {
            "tags": []
          },
          "execution_count": 78
        }
      ]
    },
    {
      "cell_type": "code",
      "metadata": {
        "id": "rv7GnfWNIcpS",
        "colab_type": "code",
        "colab": {}
      },
      "source": [
        "y_pred_LR= classifier_LR.predict(X_test)"
      ],
      "execution_count": null,
      "outputs": []
    },
    {
      "cell_type": "code",
      "metadata": {
        "id": "mmXpeDM8Inzy",
        "colab_type": "code",
        "colab": {
          "base_uri": "https://localhost:8080/",
          "height": 68
        },
        "outputId": "929ce991-0dfe-4fe1-ef93-5cacee027317"
      },
      "source": [
        "from sklearn.metrics import confusion_matrix \n",
        "cm_LR= confusion_matrix(y_test, y_pred_LR) \n",
        "print (\"Confusion Matrix : \\n\", cm_LR) "
      ],
      "execution_count": null,
      "outputs": [
        {
          "output_type": "stream",
          "text": [
            "Confusion Matrix : \n",
            " [[5667  174]\n",
            " [1269  390]]\n"
          ],
          "name": "stdout"
        }
      ]
    },
    {
      "cell_type": "code",
      "metadata": {
        "id": "ibChpKowIwPy",
        "colab_type": "code",
        "colab": {
          "base_uri": "https://localhost:8080/",
          "height": 102
        },
        "outputId": "cf507b99-3788-492d-8d71-b786307af330"
      },
      "source": [
        "from sklearn.metrics import accuracy_score \n",
        "print (\"Accuracy : \", accuracy_score(y_test, y_pred_LR))\n",
        "\n",
        "from sklearn.metrics import precision_score\n",
        "precision_LR = precision_score(y_test, y_pred_LR, average='binary')\n",
        "print('Precision: %.3f' % precision_LR)\n",
        "\n",
        "from sklearn.metrics import recall_score\n",
        "recall_LR= recall_score(y_test, y_pred_LR, average='binary')\n",
        "print('Recall: %.3f' % recall_LR)\n",
        "\n",
        "from sklearn.metrics import f1_score\n",
        "score_LR = f1_score(y_test, y_pred_LR, average='binary')\n",
        "print('F-Measure: %.3f' % score_LR)\n",
        "\n",
        "specificity_LR = cm_LR[0,0]/(cm_LR[0,0]+cm_LR[0,1])\n",
        "print('Specificity : ', specificity_LR)"
      ],
      "execution_count": null,
      "outputs": [
        {
          "output_type": "stream",
          "text": [
            "Accuracy :  0.8076\n",
            "Precision: 0.691\n",
            "Recall: 0.235\n",
            "F-Measure: 0.351\n",
            "Specificity :  0.9702105803800719\n"
          ],
          "name": "stdout"
        }
      ]
    },
    {
      "cell_type": "code",
      "metadata": {
        "id": "CiLyL-h3Iwes",
        "colab_type": "code",
        "colab": {
          "base_uri": "https://localhost:8080/",
          "height": 312
        },
        "outputId": "9985e5d5-bd40-4b31-de42-d8b612c703ba"
      },
      "source": [
        "y_pred_prob_LR = classifier_LR.predict_proba(X_test)[:,1]\n",
        "from sklearn.metrics import average_precision_score, auc, roc_curve, precision_recall_curve\n",
        "average_precision = average_precision_score(y_test, y_pred_prob_LR)\n",
        "\n",
        "#print('Average precision-recall score RF: {}'.format(average_precision))\n",
        "\n",
        "from sklearn.metrics import precision_recall_curve\n",
        "import matplotlib.pyplot as plt\n",
        "\n",
        "precision, recall, _ = precision_recall_curve(y_test, y_pred_prob_LR)\n",
        "\n",
        "plt.step(recall, precision, color='b', alpha=0.2,\n",
        "         where='post')\n",
        "plt.fill_between(recall, precision, step='post', alpha=0.2,\n",
        "                 color='b')\n",
        "\n",
        "plt.xlabel('Recall')\n",
        "plt.ylabel('Precision')\n",
        "plt.ylim([0.0, 1.05])\n",
        "plt.xlim([0.0, 1.0])\n",
        "plt.title(\"Precision-Recall curve  {}\".format(average_precision))"
      ],
      "execution_count": null,
      "outputs": [
        {
          "output_type": "execute_result",
          "data": {
            "text/plain": [
              "Text(0.5, 1.0, 'Precision-Recall curve  0.4664270796857366')"
            ]
          },
          "metadata": {
            "tags": []
          },
          "execution_count": 82
        },
        {
          "output_type": "display_data",
          "data": {
            "image/png": "[encoded data removed]",
            "text/plain": [
              "<Figure size 432x288 with 1 Axes>"
            ]
          },
          "metadata": {
            "tags": [],
            "needs_background": "light"
          }
        }
      ]
    },
    {
      "cell_type": "code",
      "metadata": {
        "id": "g4y-M6gULGuh",
        "colab_type": "code",
        "colab": {}
      },
      "source": [
        "from sklearn import tree\n",
        "classifier_DT = tree.DecisionTreeClassifier()\n",
        "classifier_DT.fit(X_train,y_train)\n",
        "y_pred_DT= classifier_DT.predict(X_test)"
      ],
      "execution_count": null,
      "outputs": []
    },
    {
      "cell_type": "code",
      "metadata": {
        "id": "3mnssBE7rFro",
        "colab_type": "code",
        "colab": {
          "base_uri": "https://localhost:8080/",
          "height": 68
        },
        "outputId": "3963c238-9324-49ef-eec8-38d9328eea37"
      },
      "source": [
        "from sklearn.metrics import confusion_matrix \n",
        "cm_DT = confusion_matrix(y_test, y_pred_DT) \n",
        "print (\"Confusion Matrix : \\n\", cm_DT)"
      ],
      "execution_count": null,
      "outputs": [
        {
          "output_type": "stream",
          "text": [
            "Confusion Matrix : \n",
            " [[4952  889]\n",
            " [ 851  808]]\n"
          ],
          "name": "stdout"
        }
      ]
    },
    {
      "cell_type": "code",
      "metadata": {
        "id": "J7XmuXvorLOQ",
        "colab_type": "code",
        "colab": {
          "base_uri": "https://localhost:8080/",
          "height": 102
        },
        "outputId": "e05edd69-b1b4-4c40-94c7-cef741463049"
      },
      "source": [
        "from sklearn.metrics import accuracy_score \n",
        "print (\"Accuracy : \", accuracy_score(y_test, y_pred_DT))\n",
        "\n",
        "from sklearn.metrics import precision_score\n",
        "precision_DT = precision_score(y_test, y_pred_DT, average='binary')\n",
        "print('Precision: %.3f' % precision_DT)\n",
        "\n",
        "from sklearn.metrics import recall_score\n",
        "recall_DT= recall_score(y_test, y_pred_DT, average='binary')\n",
        "print('Recall: %.3f' % recall_DT)\n",
        "\n",
        "from sklearn.metrics import f1_score\n",
        "score_DT = f1_score(y_test, y_pred_DT, average='binary')\n",
        "print('F-Measure: %.3f' % score_DT)\n",
        "\n",
        "specificity_DT = cm_DT[0,0]/(cm_DT[0,0]+cm_DT[0,1])\n",
        "print('Specificity : ', specificity_DT)"
      ],
      "execution_count": null,
      "outputs": [
        {
          "output_type": "stream",
          "text": [
            "Accuracy :  0.8004\n",
            "Precision: 0.546\n",
            "Recall: 0.577\n",
            "F-Measure: 0.561\n",
            "Specificity :  0.8638931689779148\n"
          ],
          "name": "stdout"
        }
      ]
    },
    {
      "cell_type": "code",
      "metadata": {
        "id": "Qk3fgMvhrvSa",
        "colab_type": "code",
        "colab": {}
      },
      "source": [
        "from sklearn.svm import SVC\n",
        "classifier_SVM_rbf=SVC(kernel='rbf',random_state=0)\n",
        "classifier_SVM_rbf.fit(X_train,y_train)\n",
        "y_pred_SVM_rbf= classifier_SVM_rbf.predict(X_test)"
      ],
      "execution_count": null,
      "outputs": []
    },
    {
      "cell_type": "code",
      "metadata": {
        "id": "ciMf1_uPr2Fp",
        "colab_type": "code",
        "colab": {
          "base_uri": "https://localhost:8080/",
          "height": 68
        },
        "outputId": "ba7a772e-c9bb-4b48-8ca0-1e136856861d"
      },
      "source": [
        "from sklearn.metrics import confusion_matrix \n",
        "cm_svm_rbf = confusion_matrix(y_test, y_pred_SVM_rbf) \n",
        "print (\"Confusion Matrix : \\n\", cm_svm_rbf) "
      ],
      "execution_count": null,
      "outputs": [
        {
          "output_type": "stream",
          "text": [
            "Confusion Matrix : \n",
            " [[5606  235]\n",
            " [1179  480]]\n"
          ],
          "name": "stdout"
        }
      ]
    },
    {
      "cell_type": "code",
      "metadata": {
        "id": "6AHx0_Alr7cz",
        "colab_type": "code",
        "colab": {
          "base_uri": "https://localhost:8080/",
          "height": 102
        },
        "outputId": "2a7a5218-1039-4843-9dba-3b6ec5c80143"
      },
      "source": [
        "from sklearn.metrics import accuracy_score \n",
        "print (\"Accuracy : \", accuracy_score(y_test, y_pred_SVM_rbf))\n",
        "\n",
        "from sklearn.metrics import precision_score\n",
        "precision_SVM_rbf = precision_score(y_test, y_pred_SVM_rbf, average='binary')\n",
        "print('Precision: %.3f' % precision_SVM_rbf)\n",
        "\n",
        "from sklearn.metrics import recall_score\n",
        "recall_SVM_rbf= recall_score(y_test, y_pred_SVM_rbf, average='binary')\n",
        "print('Recall: %.3f' % recall_SVM_rbf)\n",
        "\n",
        "from sklearn.metrics import f1_score\n",
        "score_SVM_rbf = f1_score(y_test, y_pred_SVM_rbf, average='binary')\n",
        "print('F-Measure: %.3f' % score_SVM_rbf)\n",
        "\n",
        "specificity_SVM_rbf = cm_svm_rbf[0,0]/(cm_svm_rbf[0,0]+cm_svm_rbf[0,1])\n",
        "print('Specificity : ', specificity_SVM_rbf)"
      ],
      "execution_count": null,
      "outputs": [
        {
          "output_type": "stream",
          "text": [
            "Accuracy :  0.8114666666666667\n",
            "Precision: 0.671\n",
            "Recall: 0.289\n",
            "F-Measure: 0.404\n",
            "Specificity :  0.9597671631569936\n"
          ],
          "name": "stdout"
        }
      ]
    }
  ]
}